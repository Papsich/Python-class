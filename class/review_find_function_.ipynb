{
  "cells": [
    {
      "cell_type": "markdown",
      "metadata": {
        "id": "view-in-github",
        "colab_type": "text"
      },
      "source": [
        "<a href=\"https://colab.research.google.com/github/Papsich/Python-class/blob/main/class/review_find_function_.ipynb\" target=\"_parent\"><img src=\"https://colab.research.google.com/assets/colab-badge.svg\" alt=\"Open In Colab\"/></a>"
      ]
    },
    {
      "cell_type": "code",
      "execution_count": null,
      "id": "551094f3",
      "metadata": {
        "id": "551094f3"
      },
      "outputs": [],
      "source": [
        "someText = \"Hello my names and Artur and Lika\"\n",
        "\n",
        "\n",
        "findMe = \"Arthur\"\n",
        "\n",
        "# string functions\n",
        "\n"
      ]
    },
    {
      "cell_type": "code",
      "execution_count": null,
      "id": "c8547c83",
      "metadata": {
        "id": "c8547c83",
        "outputId": "77240619-79b8-44cc-a1a5-b6dd9cdee080"
      },
      "outputs": [
        {
          "data": {
            "text/plain": [
              "-1"
            ]
          },
          "execution_count": 3,
          "metadata": {},
          "output_type": "execute_result"
        }
      ],
      "source": [
        "someText.find(findMe)"
      ]
    },
    {
      "cell_type": "code",
      "execution_count": null,
      "id": "2b3b362e",
      "metadata": {
        "id": "2b3b362e",
        "outputId": "944dca54-a4ba-4602-b713-bdef046c623e"
      },
      "outputs": [
        {
          "name": "stdout",
          "output_type": "stream",
          "text": [
            "The word 'Artur' is at position 19 in the sentence 'Hello my names and Artur and Lika' \n"
          ]
        }
      ],
      "source": [
        "findMe = \"Artur\"\n",
        "\n",
        "position=someText.find(findMe)\n",
        "print(\"The word '%s' is at position %i in the sentence '%s' \" % (findMe, position, someText))\n",
        "      "
      ]
    },
    {
      "cell_type": "code",
      "execution_count": null,
      "id": "64dcebab",
      "metadata": {
        "id": "64dcebab",
        "outputId": "57fbe71c-778f-473b-8e26-96ba11edb4ad"
      },
      "outputs": [
        {
          "data": {
            "text/plain": [
              "'Artur'"
            ]
          },
          "execution_count": 13,
          "metadata": {},
          "output_type": "execute_result"
        }
      ],
      "source": [
        "someText[19:19+5]\n",
        "\n",
        "'''\n",
        "\n",
        "this is called a slice\n",
        "\n",
        "when we put someText[start:end] it means print out from start to end\n",
        "\n",
        "'''"
      ]
    },
    {
      "cell_type": "code",
      "execution_count": null,
      "id": "1c536a8c",
      "metadata": {
        "id": "1c536a8c",
        "outputId": "fe6d0c63-bd7c-48d4-894d-4f4b8728c4dd"
      },
      "outputs": [
        {
          "data": {
            "text/plain": [
              "'r'"
            ]
          },
          "execution_count": 15,
          "metadata": {},
          "output_type": "execute_result"
        }
      ],
      "source": [
        "someText[23]"
      ]
    },
    {
      "cell_type": "code",
      "execution_count": null,
      "id": "2c92419e",
      "metadata": {
        "id": "2c92419e",
        "outputId": "41eb3e68-a241-4214-f4ef-5b8c79790b73"
      },
      "outputs": [
        {
          "data": {
            "text/plain": [
              "'Artur'"
            ]
          },
          "execution_count": 8,
          "metadata": {},
          "output_type": "execute_result"
        }
      ],
      "source": [
        "findMe"
      ]
    },
    {
      "cell_type": "code",
      "execution_count": null,
      "id": "03492d8e",
      "metadata": {
        "id": "03492d8e"
      },
      "outputs": [],
      "source": [
        "'''\n",
        "data types:\n",
        "\n",
        "string (str) letters\n",
        "\n",
        "numbers we have integer (int) and float\n",
        "\n",
        "we have Booleans which is True or False\n",
        "\n",
        "A string has different functions, like find\n",
        "\n",
        "'''"
      ]
    },
    {
      "cell_type": "code",
      "execution_count": null,
      "id": "19daa84c",
      "metadata": {
        "id": "19daa84c"
      },
      "outputs": [],
      "source": [
        "'''\n",
        "\n",
        "function (takes some input)\n",
        "\n",
        "   returns something\n",
        "\n",
        "\n",
        "find(\"some string\")\n",
        "   returns the position of the string\n",
        "\n",
        "'''"
      ]
    }
  ],
  "metadata": {
    "kernelspec": {
      "display_name": "Python 3 (ipykernel)",
      "language": "python",
      "name": "python3"
    },
    "language_info": {
      "codemirror_mode": {
        "name": "ipython",
        "version": 3
      },
      "file_extension": ".py",
      "mimetype": "text/x-python",
      "name": "python",
      "nbconvert_exporter": "python",
      "pygments_lexer": "ipython3",
      "version": "3.10.9"
    },
    "colab": {
      "provenance": [],
      "include_colab_link": true
    }
  },
  "nbformat": 4,
  "nbformat_minor": 5
}